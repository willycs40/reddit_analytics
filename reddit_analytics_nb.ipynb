{
 "metadata": {
  "name": "",
  "signature": "sha256:d45e3df52da09dbe4ed54ac7223094f4304eb1f4afb3caf5b5ce134ec156ba36"
 },
 "nbformat": 3,
 "nbformat_minor": 0,
 "worksheets": [
  {
   "cells": [
    {
     "cell_type": "code",
     "collapsed": false,
     "input": [
      "import praw"
     ],
     "language": "python",
     "metadata": {},
     "outputs": [],
     "prompt_number": 1
    },
    {
     "cell_type": "code",
     "collapsed": false,
     "input": [
      "user_agent = 'User-Agent: windows:reddit_analytics:v1 (by /u/willycs40)'\n",
      "r = praw.Reddit(user_agent=user_agent)"
     ],
     "language": "python",
     "metadata": {},
     "outputs": [],
     "prompt_number": 2
    },
    {
     "cell_type": "code",
     "collapsed": false,
     "input": [],
     "language": "python",
     "metadata": {},
     "outputs": []
    }
   ],
   "metadata": {}
  }
 ]
}